{
 "cells": [
  {
   "cell_type": "markdown",
   "metadata": {},
   "source": [
    "# Hackathon 2\n",
    "\n",
    "In the first exercise, you will develop a model for estimating the cooling/heating load indexes of a building from its characteristics. These indexes serve as reference to adapt the power of air conditioning systems. In the second exercise, you will forecast the hourly electric power consumption in Spain. Electricity being not storable, predicting the electric consumption is a crucial matter for energy producers. You will develop an autoregressive model for this purpose. \n",
    "\n",
    "## Report content\n",
    "\n",
    "•\tYou have to fill in this  jupyter notebook downloadable on the moodle website of the course\n",
    "\n",
    "•\tGrades are granted to the members whose names are in the Jupyter notebook. If your name doesn’t appear on the top of the notebook, you’ll get a 0, even though you are in a group on Moodle.\n",
    "\n",
    "•\tThe jupyter notebook must be compiled with printed results and next submitted via moodle. The absence of compiled results (or non-printed values) leads to a lower grade.\n",
    "\n",
    "## Report submission\n",
    "\n",
    "•\tThe deadline for submission is reported on the moodle website. Submission after the deadline will not be accepted.\n",
    "\n",
    "•\tTo submit your report, go to the section “APP” on Moodle and the subsection “Soumission du rapport”. You can upload your work there. Once you are sure that it is your final version, click the button “Envoyer le devoir”. It is important that you don’t forget to click on this button ! \n",
    "\n",
    "•\tReports that have not been uploaded through Moodle will not be corrected.\n",
    "\n",
    "## Names and Noma of participants:\n",
    "\n",
    "Part. 1:\n",
    "\n",
    "Part. 2:\n",
    "\n",
    "Part. 3:\n",
    "\n",
    "Part. 4:\n",
    "\n",
    "\n",
    "## Regression\n",
    "\n",
    "When designing a building, the computation of the heating load (HL) and the cooling load (CL) is required to determine the specifications of the heating and cooling equipment needed to maintain comfortable indoor air conditions. Architects and building designers need information about the characteristics of the building and of the conditioned space. For this reason, we  investigate the effect of eight input variables: (RC), surface area, wall area, roof area, overall height, orientation, glazing area, and glazing area distribution, to determine the output variables HL and CL of residential buildings.\n",
    "The dataset contains eight attributes (or features) and two responses (or outcomes). The aim is to use the eight features to predict each of the two responses.\n",
    "\n",
    "Features: RelativeCompactness, SurfaceArea ,WallArea, RoofArea, OverallHeight, Orientation, GlazingArea, GlazingAreaDistribution.\n",
    "\n",
    "Prediction: HeatingLoad, CoolingLoad\n",
    "\n"
   ]
  },
  {
   "cell_type": "code",
   "execution_count": 1,
   "metadata": {},
   "outputs": [],
   "source": [
    "# Import\n",
    "import pandas as pd \n",
    "import matplotlib.pyplot as plt\n",
    "import numpy as np\n",
    "import datetime as dt"
   ]
  },
  {
   "cell_type": "markdown",
   "metadata": {},
   "source": [
    "---\n",
    "1) Report useful statistics for each variables (mean, std, heatmap of correlations,...)"
   ]
  },
  {
   "cell_type": "code",
   "execution_count": 1,
   "metadata": {},
   "outputs": [],
   "source": [
    "#code here"
   ]
  },
  {
   "cell_type": "markdown",
   "metadata": {},
   "source": [
    "Comments"
   ]
  },
  {
   "cell_type": "markdown",
   "metadata": {},
   "source": [
    "---\n",
    "2)\tAdd a constant term (intercept) and perform a linear regression of the variable CoolingLoad on all other explanatory variables. Use  the library statsmodels.\n",
    "\n",
    "i. Report the F statistics and R2: interpret them. \n",
    "\n",
    "ii. Analyze the t-statistics and p-values of each coefficient of regression.\n",
    "\n",
    "Are all coefficients significant at 95%? Use the library statsmodels.api. The function OLS accepts pandas dataframe (use .drop() to remove columns).\n"
   ]
  },
  {
   "cell_type": "code",
   "execution_count": null,
   "metadata": {},
   "outputs": [],
   "source": [
    "#code here"
   ]
  },
  {
   "cell_type": "markdown",
   "metadata": {},
   "source": [
    "Comments"
   ]
  },
  {
   "cell_type": "markdown",
   "metadata": {},
   "source": [
    "---\n",
    "3)\tRemove non-significant coefficients except the intercept (e.g. with  𝛼  5%) and run again the regression. What do you notice when you compare the R2, log-likelihood, AIC and BIC (the AIC and BIC are not explained in the course, search on internet for explanations)\n"
   ]
  },
  {
   "cell_type": "code",
   "execution_count": null,
   "metadata": {},
   "outputs": [],
   "source": [
    "#code here"
   ]
  },
  {
   "cell_type": "code",
   "execution_count": null,
   "metadata": {},
   "outputs": [],
   "source": [
    "Comments"
   ]
  },
  {
   "cell_type": "markdown",
   "metadata": {},
   "source": [
    "## Auto-regressive model\n",
    "\n",
    "In a paper released early 2019, forecasting in energy markets is identified as one of the highest leverage contribution areas of Machine/Deep Learning toward transitioning to a renewable based electrical infrastructure (see https://arxiv.org/abs/1906.05433).  The file “Data_energy_load.csv” contains 4 years of electrical consumption  for Spain in MW/h.  This was retrieved from ENTSOE a public portal for Transmission Service Operator (TSO) data.\n",
    "\n",
    "File format:\n",
    "\n",
    "Date: dd-mm-yy, Hour : from 0 to 23. Weekday: from 1 (Monday)  to 7 (Sunday). Load: consumption in MW/h. Lm1: consumption 1h ago, Lm2: consumption 2h ago,… Lm14: consumption 14h ago\n",
    "\n",
    "1)\tLoad the dataset and convert dates in datetime format (you can use the package datetime). Plot the time series of consumption, what do you observe?"
   ]
  },
  {
   "cell_type": "code",
   "execution_count": 68,
   "metadata": {},
   "outputs": [
    {
     "name": "stdout",
     "output_type": "stream",
     "text": [
      "       Date  Hour  Weekday     Load      Lm1      Lm2      Lm3      Lm4  \\\n",
      "0  02-01-15     0        6  27070.0  26798.0  29031.0  29571.0  29014.0   \n",
      "1  02-01-15     1        6  24935.0  27070.0  26798.0  29031.0  29571.0   \n",
      "2  02-01-15     2        6  23214.0  24935.0  27070.0  26798.0  29031.0   \n",
      "3  02-01-15     3        6  22540.0  23214.0  24935.0  27070.0  26798.0   \n",
      "4  02-01-15     4        6  22096.0  22540.0  23214.0  24935.0  27070.0   \n",
      "\n",
      "       Lm5      Lm6      Lm7      Lm8      Lm9     Lm10     Lm11     LM12  \\\n",
      "0  28020.0  26447.0  23606.0  23118.0  23528.0  24672.0  24713.0  24133.0   \n",
      "1  29014.0  28020.0  26447.0  23606.0  23118.0  23528.0  24672.0  24713.0   \n",
      "2  29571.0  29014.0  28020.0  26447.0  23606.0  23118.0  23528.0  24672.0   \n",
      "3  29031.0  29571.0  29014.0  28020.0  26447.0  23606.0  23118.0  23528.0   \n",
      "4  26798.0  29031.0  29571.0  29014.0  28020.0  26447.0  23606.0  23118.0   \n",
      "\n",
      "      LM13     LM14            Datetime  \n",
      "0  23547.0  22250.0 2015-01-02 00:00:00  \n",
      "1  24133.0  23547.0 2015-01-02 01:00:00  \n",
      "2  24713.0  24133.0 2015-01-02 02:00:00  \n",
      "3  24672.0  24713.0 2015-01-02 03:00:00  \n",
      "4  23528.0  24672.0 2015-01-02 04:00:00  \n"
     ]
    },
    {
     "data": {
      "text/plain": [
       "array([<AxesSubplot:xlabel='Datetime'>], dtype=object)"
      ]
     },
     "execution_count": 68,
     "metadata": {},
     "output_type": "execute_result"
    },
    {
     "data": {
      "image/png": "[encoded data removed]",
      "text/plain": [
       "<Figure size 1152x576 with 1 Axes>"
      ]
     },
     "metadata": {
      "needs_background": "light"
     },
     "output_type": "display_data"
    }
   ],
   "source": [
    "#code here\n",
    "data_energy_load = pd.read_csv('Data_energy_load.csv', sep=';')\n",
    "\n",
    "# test_date = \"02-01-15\".split('-')\n",
    "# test_date_object = dt.date(day=int(test_date[0]), month=int(test_date[1]), year=int(test_date[2]))\n",
    "\n",
    "def date_to_datetime_object(data):\n",
    "    newDatetime = np.array(data['Date'])\n",
    "    for i in range(len(data['Date'])):\n",
    "        tmp_date = data['Date'][i].split('-')\n",
    "        tmp_time = int(data['Hour'][i])\n",
    "        \n",
    "        newDatetime[i] = dt.datetime(day=int(tmp_date[0]), month=int(tmp_date[1]), year=2000+int(tmp_date[2]), hour=tmp_time)\n",
    "    data['Datetime'] = newDatetime\n",
    "    \n",
    "date_to_datetime_object(data_energy_load)\n",
    "\n",
    "print(data_energy_load.head())\n",
    "    \n",
    "data_energy_load.plot(subplots=True, x='Datetime', y='Load', title=\"Load according to time\", logy=True, color=\"green\", figsize=(16,8))"
   ]
  },
  {
   "cell_type": "markdown",
   "metadata": {},
   "source": [
    "Comments\n",
    "\n",
    "TODO: Faire un meilleur plot"
   ]
  },
  {
   "cell_type": "markdown",
   "metadata": {},
   "source": [
    "---\n",
    "2) We will regress the electric consumption (‘Load’) on the following covariates ‘Weekday’, ‘Hour’, ‘Lm1’, ‘Lm2’,…,’Lm14’. Plot the following graphs:\n",
    "\n",
    "•\tAverage electric consumption per day (y axis) versus weekday (x axis)\n",
    "\n",
    "•\tAverage electric consumption per hour(y axis) versus hour (x axis)\n",
    "\n",
    "Based on these graphs, do you think that it is a good idea to regress linearly the consumption on variables ‘Hour’ and ‘Weekday’? \n"
   ]
  },
  {
   "cell_type": "code",
   "execution_count": null,
   "metadata": {},
   "outputs": [],
   "source": [
    "#code here\n"
   ]
  },
  {
   "cell_type": "markdown",
   "metadata": {},
   "source": [
    "Comments"
   ]
  },
  {
   "cell_type": "markdown",
   "metadata": {},
   "source": [
    "---\n",
    "3) We will slightly transform the dataset. We first add a constant column for the regression (column of ones). You also convert the variable ‘Hour’ into 23 (and not 24!) binary variables H1,…H23. You next convert the variable ‘Weekday’ into 6 (and not 7) variables W2,…,W7. Use the command get_dummies(.) from pandas. Why do we remove H0 and W1? Why do we do this conversion?\n",
    "\n",
    "---"
   ]
  },
  {
   "cell_type": "code",
   "execution_count": 69,
   "metadata": {},
   "outputs": [
    {
     "name": "stdout",
     "output_type": "stream",
     "text": [
      "       Date  Hour     Load      Lm1      Lm2      Lm3      Lm4      Lm5  \\\n",
      "0  02-01-15     0  27070.0  26798.0  29031.0  29571.0  29014.0  28020.0   \n",
      "1  02-01-15     1  24935.0  27070.0  26798.0  29031.0  29571.0  29014.0   \n",
      "2  02-01-15     2  23214.0  24935.0  27070.0  26798.0  29031.0  29571.0   \n",
      "3  02-01-15     3  22540.0  23214.0  24935.0  27070.0  26798.0  29031.0   \n",
      "4  02-01-15     4  22096.0  22540.0  23214.0  24935.0  27070.0  26798.0   \n",
      "\n",
      "       Lm6      Lm7  ...     LM13     LM14            Datetime  Constant  W_2  \\\n",
      "0  26447.0  23606.0  ...  23547.0  22250.0 2015-01-02 00:00:00         1    0   \n",
      "1  28020.0  26447.0  ...  24133.0  23547.0 2015-01-02 01:00:00         1    0   \n",
      "2  29014.0  28020.0  ...  24713.0  24133.0 2015-01-02 02:00:00         1    0   \n",
      "3  29571.0  29014.0  ...  24672.0  24713.0 2015-01-02 03:00:00         1    0   \n",
      "4  29031.0  29571.0  ...  23528.0  24672.0 2015-01-02 04:00:00         1    0   \n",
      "\n",
      "   W_3  W_4 W_5  W_6  W_7  \n",
      "0    0    0   0    1    0  \n",
      "1    0    0   0    1    0  \n",
      "2    0    0   0    1    0  \n",
      "3    0    0   0    1    0  \n",
      "4    0    0   0    1    0  \n",
      "\n",
      "[5 rows x 25 columns]\n"
     ]
    }
   ],
   "source": [
    "#code here\n",
    "data=data_energy_load\n",
    "data_energy_load['Constant']=1\n",
    "data= pd.get_dummies(data_energy_load,prefix=\"H\",columns=['Hour'],drop_first=True)\n",
    "data= pd.get_dummies(data_energy_load, prefix='W', columns=['Weekday'],drop_first=True)\n",
    "print(data.head())"
   ]
  },
  {
   "cell_type": "markdown",
   "metadata": {},
   "source": [
    "Comments"
   ]
  },
  {
   "cell_type": "markdown",
   "metadata": {},
   "source": [
    "---\n",
    "4) Split the dataset in\n",
    "\n",
    "•\ta training set with observations from 02-01-15 up to 01-12-2018 (included)\n",
    "\n",
    "•\ta test (or validation) set with observations from 02-12-2018 up to 31-12-2018.\n"
   ]
  },
  {
   "cell_type": "code",
   "execution_count": 74,
   "metadata": {},
   "outputs": [
    {
     "name": "stdout",
     "output_type": "stream",
     "text": [
      "                 Date  Hour     Load      Lm1      Lm2      Lm3      Lm4  \\\n",
      "Date                                                                       \n",
      "2018-12-31 2018-12-31     2  20851.0  22140.0  24312.0  26934.0  29145.0   \n",
      "2018-12-31 2018-12-31     1  22140.0  24312.0  26934.0  29145.0  30229.0   \n",
      "2018-12-31 2018-12-31     0  24312.0  26934.0  29145.0  30229.0  30042.0   \n",
      "2018-12-31 2018-12-31    10  29873.0  28382.0  25969.0  23850.0  21723.0   \n",
      "2018-12-31 2018-12-31    23  24455.0  25801.0  28071.0  29735.0  30653.0   \n",
      "\n",
      "                Lm5      Lm6      Lm7  ...     LM13     LM14  \\\n",
      "Date                                   ...                     \n",
      "2018-12-31  30229.0  30042.0  29221.0  ...  27462.0  27235.0   \n",
      "2018-12-31  30042.0  29221.0  28072.0  ...  27235.0  27614.0   \n",
      "2018-12-31  29221.0  28072.0  25552.0  ...  27614.0  26942.0   \n",
      "2018-12-31  20366.0  20006.0  20200.0  ...  30229.0  30042.0   \n",
      "2018-12-31  29592.0  26738.0  26449.0  ...  29873.0  28382.0   \n",
      "\n",
      "                      Datetime  Constant  W_2  W_3  W_4 W_5  W_6  W_7  \n",
      "Date                                                                   \n",
      "2018-12-31 2018-12-31 02:00:00         1    1    0    0   0    0    0  \n",
      "2018-12-31 2018-12-31 01:00:00         1    1    0    0   0    0    0  \n",
      "2018-12-31 2018-12-31 00:00:00         1    1    0    0   0    0    0  \n",
      "2018-12-31 2018-12-31 10:00:00         1    1    0    0   0    0    0  \n",
      "2018-12-31 2018-12-31 23:00:00         1    1    0    0   0    0    0  \n",
      "\n",
      "[5 rows x 25 columns]\n"
     ]
    }
   ],
   "source": [
    "data['Date']=pd.to_datetime(data['Date'])\n",
    "data=data.set_index(data['Date'])\n",
    "data=data.sort_index()\n",
    "\n",
    "train=data['2015-01-02':'2018-12-01']\n",
    "test=data['2018-12-02':'2018-12-31']\n",
    "print(test.tail())"
   ]
  },
  {
   "cell_type": "markdown",
   "metadata": {},
   "source": [
    "---\n",
    "If we denote by L(t) the consumption at time t, the model that we want to develop is \n",
    "$$L(t) = cst + \\sum_{k=1}^{14} a_k L(t-k) +\\sum_{k=2}^{7} b_k W_k + \\sum_{k=1}^{23} c_k H_k    $$\n",
    "\n",
    "o\tEstimate this model with statsmodels on the training set. \n",
    "\n",
    "o\tHow would you judge the quality of the predictive model?\n",
    "\n",
    "o\tCompute the Mean Absolute Error (MAE) between predicted and real consumptions.\n",
    "\n"
   ]
  },
  {
   "cell_type": "code",
   "execution_count": null,
   "metadata": {},
   "outputs": [],
   "source": [
    "#code here"
   ]
  },
  {
   "cell_type": "markdown",
   "metadata": {},
   "source": [
    "Comments"
   ]
  },
  {
   "cell_type": "markdown",
   "metadata": {},
   "source": [
    "5) Use this model on the test set to forecast the electric consumption.\n",
    "\n",
    "o\tCompare on a graph, the forecast to  real consumptions on the given period. Plot also the errors of prediction.\n",
    "\n",
    "o\tCompute the MAE on the test set and the R2. Is the forecast reliable?"
   ]
  },
  {
   "cell_type": "code",
   "execution_count": null,
   "metadata": {},
   "outputs": [],
   "source": [
    "#code here"
   ]
  },
  {
   "cell_type": "markdown",
   "metadata": {},
   "source": [
    "Comments"
   ]
  },
  {
   "cell_type": "markdown",
   "metadata": {},
   "source": [
    "6) We want to check that the average consumption at 11h is significantly different (at 95%) from the average consumption at 13h. Perform a statistical test (explain which stat you use) and report the stat value, the pivot value(s) and the p-value."
   ]
  },
  {
   "cell_type": "code",
   "execution_count": null,
   "metadata": {},
   "outputs": [],
   "source": [
    "#code here"
   ]
  },
  {
   "cell_type": "markdown",
   "metadata": {},
   "source": [
    "Comments"
   ]
  },
  {
   "cell_type": "markdown",
   "metadata": {},
   "source": [
    "7) The test of question 5 requires that variances are equal. Test if this assumption holds (95% confidence level). Report  the stat value, the pivot value (s)."
   ]
  },
  {
   "cell_type": "code",
   "execution_count": null,
   "metadata": {},
   "outputs": [],
   "source": [
    "#code here"
   ]
  },
  {
   "cell_type": "markdown",
   "metadata": {},
   "source": [
    "Comments"
   ]
  }
 ],
 "metadata": {
  "kernelspec": {
   "display_name": "Python 3.9.12 ('base')",
   "language": "python",
   "name": "python3"
  },
  "language_info": {
   "codemirror_mode": {
    "name": "ipython",
    "version": 3
   },
   "file_extension": ".py",
   "mimetype": "text/x-python",
   "name": "python",
   "nbconvert_exporter": "python",
   "pygments_lexer": "ipython3",
   "version": "3.9.12"
  },
  "vscode": {
   "interpreter": {
    "hash": "49669697e4c1a7fcf57207a9f07a93e393175df60dae75e80973c93d7995b41c"
   }
  }
 },
 "nbformat": 4,
 "nbformat_minor": 4
}
