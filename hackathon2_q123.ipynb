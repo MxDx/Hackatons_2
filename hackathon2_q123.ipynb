{
 "cells": [
  {
   "cell_type": "markdown",
   "metadata": {},
   "source": [
    "# Hackathon 2\n",
    "\n",
    "In the first exercise, you will develop a model for estimating the cooling/heating load indexes of a building from its characteristics. These indexes serve as reference to adapt the power of air conditioning systems. In the second exercise, you will forecast the hourly electric power consumption in Spain. Electricity being not storable, predicting the electric consumption is a crucial matter for energy producers. You will develop an autoregressive model for this purpose. \n",
    "\n",
    "## Report content\n",
    "\n",
    "•\tYou have to fill in this  jupyter notebook downloadable on the moodle website of the course\n",
    "\n",
    "•\tGrades are granted to the members whose names are in the Jupyter notebook. If your name doesn’t appear on the top of the notebook, you’ll get a 0, even though you are in a group on Moodle.\n",
    "\n",
    "•\tThe jupyter notebook must be compiled with printed results and next submitted via moodle. The absence of compiled results (or non-printed values) leads to a lower grade.\n",
    "\n",
    "## Report submission\n",
    "\n",
    "•\tThe deadline for submission is reported on the moodle website. Submission after the deadline will not be accepted.\n",
    "\n",
    "•\tTo submit your report, go to the section “APP” on Moodle and the subsection “Soumission du rapport”. You can upload your work there. Once you are sure that it is your final version, click the button “Envoyer le devoir”. It is important that you don’t forget to click on this button ! \n",
    "\n",
    "•\tReports that have not been uploaded through Moodle will not be corrected.\n",
    "\n",
    "## Names and Noma of participants:\n",
    "\n",
    "Part. 1:\n",
    "\n",
    "Part. 2:\n",
    "\n",
    "Part. 3:\n",
    "\n",
    "Part. 4:\n",
    "\n",
    "\n",
    "## Regression\n",
    "\n",
    "When designing a building, the computation of the heating load (HL) and the cooling load (CL) is required to determine the specifications of the heating and cooling equipment needed to maintain comfortable indoor air conditions. Architects and building designers need information about the characteristics of the building and of the conditioned space. For this reason, we  investigate the effect of eight input variables: (RC), surface area, wall area, roof area, overall height, orientation, glazing area, and glazing area distribution, to determine the output variables HL and CL of residential buildings.\n",
    "The dataset contains eight attributes (or features) and two responses (or outcomes). The aim is to use the eight features to predict each of the two responses.\n",
    "\n",
    "Features: RelativeCompactness, SurfaceArea ,WallArea, RoofArea, OverallHeight, Orientation, GlazingArea, GlazingAreaDistribution.\n",
    "\n",
    "Prediction: HeatingLoad, CoolingLoad\n",
    "\n"
   ]
  },
  {
   "cell_type": "markdown",
   "metadata": {},
   "source": [
    "---\n",
    "1) Report useful statistics for each variables (mean, std, heatmap of correlations,...)"
   ]
  },
  {
   "cell_type": "code",
   "execution_count": 1,
   "metadata": {},
   "outputs": [],
   "source": [
    "import matplotlib.pyplot as plt\n",
    "import pandas as pd\n",
    "import seaborn as sb\n",
    "data = pd.read_csv(\"Data_heating_cooling.csv\") \n",
    "\n",
    "\n",
    "moy= []\n",
    "\n",
    "moy.append(\"Relative_Compactness: \" + str(data[\"Relative_Compactness\"].mean()))\n",
    "moy.append(\"Surface_Area: \" + str(data[\"Surface_Area\"].mean()))\n",
    "moy.append(\"Wall_Area: \" + str(data[\"Wall_Area\"].mean()))\n",
    "moy.append(\"Roof_Area: \" + str(data[\"Roof_Area\"].mean()))\n",
    "moy.append(\"Overall_Height: \" + str(data[\"Overall_Height\"].mean()))\n",
    "moy.append(\"Orientation: \" + str(data[\"Orientation\"].mean()))\n",
    "moy.append(\"Glazing_Area: \" + str(data[\"Glazing_Area\"].mean()))\n",
    "moy.append(\"Glazing_Area_Distribution: \" + str(data[\"Glazing_Area_Distribution\"].mean()))\n",
    "moy.append(\"Heating_Load: \" + str(data[\"Heating_Load\"].mean()))\n",
    "moy.append(\"Cooling_Load: \" + str(data[\"Cooling_Load\"].mean()))\n",
    "\n",
    "\n",
    "std = []\n",
    "std.append(\"Relative_Compactness: \" + str(data[\"Relative_Compactness\"].std()))\n",
    "std.append(\"Surface_Area: \" + str(data[\"Surface_Area\"].std()))\n",
    "std.append(\"Wall_Area: \" + str(data[\"Wall_Area\"].std()))\n",
    "std.append(\"Roof_Area: \" + str(data[\"Roof_Area\"].std()))\n",
    "std.append(\"Overall_Height: \" + str(data[\"Overall_Height\"].std()))\n",
    "std.append(\"Orientation: \" + str(data[\"Orientation\"].std()))\n",
    "std.append(\"Glazing_Area: \" + str(data[\"Glazing_Area\"].std()))\n",
    "std.append(\"Glazing_Area_Distribution: \" + str(data[\"Glazing_Area_Distribution\"].std()))\n",
    "std.append(\"Heating_Load: \" + str(data[\"Heating_Load\"].std()))\n",
    "std.append(\"Cooling_Load: \" + str(data[\"Cooling_Load\"].std()))\n",
    "\n",
    "\n",
    "\n",
    "def printmoy(moyennes) : \n",
    "    print(\"Moyennes: \")\n",
    "    for i in moyennes:\n",
    "        print(i)\n",
    "    print(\"\\n\\n\")\n",
    "\n",
    " \n",
    "def printstd(stand_dev) : \n",
    "    print(\"Déviations standards: \")\n",
    "    for i in stand_dev:\n",
    "        print(i)\n",
    "    print(\"\\n\\n\")\n",
    "\n",
    "printmoy(moy)\n",
    "printstd(std)\n",
    "#heatmap\n",
    "sb.heatmap(data.corr(), annot=True, fmt=\".2f\") \n",
    "#boxplots to have an idea of distribution\n",
    "fig, ax = plt.subplots()\n",
    "ax.boxplot([data[\"Surface_Area\"],data[\"Wall_Area\"],data[\"Roof_Area\"]])\n",
    "ax.set_title('Boxplots of Surface Area, Wall area, Roof area')\n",
    "plt.show()\n",
    "fig2, ax2 = plt.subplots()\n",
    "ax2.boxplot([data[\"Relative_Compactness\"],data[\"Glazing_Area\"]])\n",
    "ax2.set_title('Boxplots of Relative_Compactness and Glazing Area')\n",
    "plt.show()\n",
    "fig3, ax3 = plt.subplots()\n",
    "ax3.boxplot([data[\"Glazing_Area_Distribution\"],data[\"Overall_Height\"] ])\n",
    "ax3.set_title('Boxplots of Glazing_Area_Distribution and Overall_Height')\n",
    "plt.show()\n",
    "fig4, ax4 = plt.subplots()\n",
    "ax4.boxplot([data[\"Heating_Load\"],data[\"Cooling_Load\"] ])\n",
    "ax4.set_title('Boxplots of Heating_Load and Cooling_Load')\n",
    "plt.show()\n",
    "#it makes no sense to have a boxplot for orientation"
   ]
  },
  {
   "cell_type": "markdown",
   "metadata": {},
   "source": [
    "We can see that there is no correlation at all between certain variables and a big one between other.The variable \"Orientation\" has no physical sense."
   ]
  },
  {
   "cell_type": "markdown",
   "metadata": {},
   "source": [
    "---\n",
    "2)\tAdd a constant term (intercept) and perform a linear regression of the variable CoolingLoad on all other explanatory variables. Use  the library statsmodels.\n",
    "\n",
    "i. Report the F statistics and R2: interpret them. \n",
    "\n",
    "ii. Analyze the t-statistics and p-values of each coefficient of regression.\n",
    "\n",
    "Are all coefficients significant at 95%? Use the library statsmodels.api. The function OLS accepts pandas dataframe (use .drop() to remove columns).\n"
   ]
  },
  {
   "cell_type": "code",
   "execution_count": null,
   "metadata": {},
   "outputs": [],
   "source": [
    "\n",
    "import statsmodels.api as sm\n",
    "\n",
    "X = data.drop([\"Cooling_Load\",\"Heating_Load\"],axis = 1)\n",
    "Y = data[\"Cooling_Load\"]\n",
    "Xm = sm.add_constant(X)\n",
    "results = sm.OLS(Y,Xm).fit()\n",
    "\n",
    "print(results.params)\n",
    "print(results.summary())"
   ]
  },
  {
   "cell_type": "markdown",
   "metadata": {},
   "source": [
    "The F stat is pretty high which is good. R2 is clos to 1 which is also a pretty good thing. The p-values of Orientation and Glazing_Area_Distribution are to small so we reject them. Their t-value is also too small."
   ]
  },
  {
   "cell_type": "markdown",
   "metadata": {},
   "source": [
    "---\n",
    "3)\tRemove non-significant coefficients except the intercept (e.g. with  𝛼  5%) and run again the regression. What do you notice when you compare the R2, log-likelihood, AIC and BIC (the AIC and BIC are not explained in the course, search on internet for explanations)\n"
   ]
  },
  {
   "cell_type": "code",
   "execution_count": null,
   "metadata": {},
   "outputs": [],
   "source": [
    "Xm = Xm.drop([\"Surface_Area\",\"Wall_Area\",\"Roof_Area\",\"Glazing_Area_Distribution\",\"Orientation\"],axis=1 )\n",
    "Y = data[\"Cooling_Load\"]\n",
    "Xm = sm.add_constant(Xm)\n",
    "results = sm.OLS(Y,Xm).fit()\n",
    "\n",
    "print(results.params)\n",
    "print(results.summary())"
   ]
  },
  {
   "cell_type": "markdown",
   "metadata": {},
   "source": [
    "The suface area, wall area et roof area are not significant so we remove them. R2 is smaller and it should be bigger. The difference between the two of them is not very big.\n",
    "AIC and BIC are a bit higher and to have a better model they should be smaller. The difference is also small.\n",
    "The second log-likelihood is smaller so the model is worse.\n",
    "\n"
   ]
  },
  {
   "cell_type": "code",
   "execution_count": null,
   "metadata": {},
   "outputs": [],
   "source": []
  },
  {
   "cell_type": "markdown",
   "metadata": {},
   "source": [
    "## Auto-regressive model\n",
    "\n",
    "In a paper released early 2019, forecasting in energy markets is identified as one of the highest leverage contribution areas of Machine/Deep Learning toward transitioning to a renewable based electrical infrastructure (see https://arxiv.org/abs/1906.05433).  The file “Data_energy_load.csv” contains 4 years of electrical consumption  for Spain in MW/h.  This was retrieved from ENTSOE a public portal for Transmission Service Operator (TSO) data.\n",
    "\n",
    "File format:\n",
    "\n",
    "Date: dd-mm-yy, Hour : from 0 to 23. Weekday: from 1 (Monday)  to 7 (Sunday). Load: consumption in MW/h. Lm1: consumption 1h ago, Lm2: consumption 2h ago,… Lm14: consumption 14h ago\n",
    "\n",
    "1)\tLoad the dataset and convert dates in datetime format (you can use the package datetime). Plot the time series of consumption, what do you observe?"
   ]
  },
  {
   "cell_type": "code",
   "execution_count": null,
   "metadata": {},
   "outputs": [],
   "source": [
    "#code here"
   ]
  },
  {
   "cell_type": "code",
   "execution_count": null,
   "metadata": {},
   "outputs": [],
   "source": [
    "Comments"
   ]
  },
  {
   "cell_type": "markdown",
   "metadata": {},
   "source": [
    "---\n",
    "2) We will regress the electric consumption (‘Load’) on the following covariates ‘Weekday’, ‘Hour’, ‘Lm1’, ‘Lm2’,…,’Lm14’. Plot the following graphs:\n",
    "\n",
    "•\tAverage electric consumption per day (y axis) versus weekday (x axis)\n",
    "\n",
    "•\tAverage electric consumption per hour(y axis) versus hour (x axis)\n",
    "\n",
    "Based on these graphs, do you think that it is a good idea to regress linearly the consumption on variables ‘Hour’ and ‘Weekday’? \n"
   ]
  },
  {
   "cell_type": "code",
   "execution_count": null,
   "metadata": {},
   "outputs": [],
   "source": [
    "#code here"
   ]
  },
  {
   "cell_type": "markdown",
   "metadata": {},
   "source": [
    "Comments"
   ]
  },
  {
   "cell_type": "markdown",
   "metadata": {},
   "source": [
    "---\n",
    "3) We will slightly transform the dataset. We first add a constant column for the regression (column of ones). You also convert the variable ‘Hour’ into 23 (and not 24!) binary variables H1,…H23. You next convert the variable ‘Weekday’ into 6 (and not 7) variables W2,…,W7. Use the command get_dummies(.) from pandas. Why do we remove H0 and W1? Why do we do this conversion?\n",
    "\n",
    "---"
   ]
  },
  {
   "cell_type": "code",
   "execution_count": null,
   "metadata": {},
   "outputs": [],
   "source": [
    "#code here"
   ]
  },
  {
   "cell_type": "markdown",
   "metadata": {},
   "source": [
    "Comments"
   ]
  },
  {
   "cell_type": "markdown",
   "metadata": {},
   "source": [
    "---\n",
    "4) Split the dataset in\n",
    "\n",
    "•\ta training set with observations from 02-01-15 up to 01-12-2018 (included)\n",
    "\n",
    "•\ta test (or validation) set with observations from 02-12-2018 up to 31-12-2018.\n"
   ]
  },
  {
   "cell_type": "code",
   "execution_count": null,
   "metadata": {},
   "outputs": [],
   "source": [
    "#code here"
   ]
  },
  {
   "cell_type": "markdown",
   "metadata": {},
   "source": [
    "---\n",
    "If we denote by L(t) the consumption at time t, the model that we want to develop is \n",
    "$$L(t) = cst + \\sum_{k=1}^{14} a_k L(t-k) +\\sum_{k=2}^{7} b_k W_k + \\sum_{k=1}^{23} c_k H_k    $$\n",
    "\n",
    "o\tEstimate this model with statsmodels on the training set. \n",
    "\n",
    "o\tHow would you judge the quality of the predictive model?\n",
    "\n",
    "o\tCompute the Mean Absolute Error (MAE) between predicted and real consumptions.\n",
    "\n"
   ]
  },
  {
   "cell_type": "code",
   "execution_count": null,
   "metadata": {},
   "outputs": [],
   "source": [
    "#code here"
   ]
  },
  {
   "cell_type": "markdown",
   "metadata": {},
   "source": [
    "Comments"
   ]
  },
  {
   "cell_type": "markdown",
   "metadata": {},
   "source": [
    "5) Use this model on the test set to forecast the electric consumption.\n",
    "\n",
    "o\tCompare on a graph, the forecast to  real consumptions on the given period. Plot also the errors of prediction.\n",
    "\n",
    "o\tCompute the MAE on the test set and the R2. Is the forecast reliable?"
   ]
  },
  {
   "cell_type": "code",
   "execution_count": null,
   "metadata": {},
   "outputs": [],
   "source": [
    "#code here"
   ]
  },
  {
   "cell_type": "markdown",
   "metadata": {},
   "source": [
    "Comments"
   ]
  },
  {
   "cell_type": "markdown",
   "metadata": {},
   "source": [
    "6) We want to check that the average consumption at 11h is significantly different (at 95%) from the average consumption at 13h. Perform a statistical test (explain which stat you use) and report the stat value, the pivot value(s) and the p-value."
   ]
  },
  {
   "cell_type": "code",
   "execution_count": null,
   "metadata": {},
   "outputs": [],
   "source": [
    "#code here"
   ]
  },
  {
   "cell_type": "markdown",
   "metadata": {},
   "source": [
    "Comments"
   ]
  },
  {
   "cell_type": "markdown",
   "metadata": {},
   "source": [
    "7) The test of question 5 requires that variances are equal. Test if this assumption holds (95% confidence level). Report  the stat value, the pivot value (s)."
   ]
  },
  {
   "cell_type": "code",
   "execution_count": null,
   "metadata": {},
   "outputs": [],
   "source": [
    "#code here"
   ]
  },
  {
   "cell_type": "markdown",
   "metadata": {},
   "source": [
    "Comments"
   ]
  }
 ],
 "metadata": {
  "kernelspec": {
   "display_name": "Python 3 (ipykernel)",
   "language": "python",
   "name": "python3"
  },
  "language_info": {
   "codemirror_mode": {
    "name": "ipython",
    "version": 3
   },
   "file_extension": ".py",
   "mimetype": "text/x-python",
   "name": "python",
   "nbconvert_exporter": "python",
   "pygments_lexer": "ipython3",
   "version": "3.9.13"
  }
 },
 "nbformat": 4,
 "nbformat_minor": 4
}
